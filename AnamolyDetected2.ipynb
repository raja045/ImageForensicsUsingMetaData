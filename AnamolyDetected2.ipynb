{
  "nbformat": 4,
  "nbformat_minor": 0,
  "metadata": {
    "colab": {
      "provenance": []
    },
    "kernelspec": {
      "name": "python3",
      "display_name": "Python 3"
    },
    "language_info": {
      "name": "python"
    }
  },
  "cells": [
    {
      "cell_type": "code",
      "source": [
        "import folium\n",
        "from folium import plugins\n",
        "import pandas as pd\n",
        "\n",
        "# Example dataset (replace with your actual dataset)\n",
        "data = pd.read_csv(\"/content/DetectedAnamolyDataset2.csv\")\n",
        "\n",
        "# Convert 'Date Shot' to datetime to sort points by date/time\n",
        "data['Date Created'] = pd.to_datetime(data['Date Created'])\n",
        "\n",
        "# Sort the data by 'Date Shot' to maintain the travel sequence\n",
        "data = data.sort_values('Date Created')\n",
        "\n",
        "# Create a map centered around the average location\n",
        "center_lat = data['Latitude'].mean()\n",
        "center_long = data['Longitude'].mean()\n",
        "m = folium.Map(location=[center_lat, center_long], zoom_start=12)\n",
        "\n",
        "# Add markers for each image capture point\n",
        "for _, row in data.iterrows():\n",
        "    folium.Marker(\n",
        "        location=[row['Latitude'], row['Longitude']],\n",
        "        popup=f\"File: {row['File']}<br>Date Created: {row['Date Created']}\",\n",
        "        icon=folium.Icon(color=\"blue\", icon=\"camera\")\n",
        "    ).add_to(m)\n",
        "\n",
        "# Extract the coordinates to create a route (polyline)\n",
        "locations = data[['Latitude', 'Longitude']].values.tolist()\n",
        "\n",
        "# Add the polyline (travel route) to the map\n",
        "polyline = folium.PolyLine(locations, color=\"red\", weight=2.5, opacity=1).add_to(m)\n",
        "\n",
        "\n",
        "\n",
        "# Add a minimap in the corner\n",
        "minimap = plugins.MiniMap(toggle_display=True)\n",
        "m.add_child(minimap)\n",
        "\n",
        "# Save the map to an HTML file\n",
        "m.save(\"map_with_arrows3.html\")\n",
        "\n",
        "# Output success message\n",
        "print(\"Map with route, markers, and arrows created successfully!\")\n"
      ],
      "metadata": {
        "colab": {
          "base_uri": "https://localhost:8080/"
        },
        "id": "KdqAXX8Yp8Kf",
        "outputId": "cfc62443-af28-4f1f-837c-fbc5dc73ae30"
      },
      "execution_count": null,
      "outputs": [
        {
          "output_type": "stream",
          "name": "stdout",
          "text": [
            "Map with route, markers, and arrows created successfully!\n"
          ]
        }
      ]
    },
    {
      "cell_type": "code",
      "source": [
        "import folium\n",
        "from folium import plugins\n",
        "import pandas as pd\n",
        "\n",
        "# Example dataset (replace with your actual dataset)\n",
        "data = pd.read_csv(\"/content/DetectedAnamolyDataset2.csv\")\n",
        "\n",
        "# Convert 'Date Created' to datetime to sort points by date/time\n",
        "data['Date Created'] = pd.to_datetime(data['Date Created'])\n",
        "\n",
        "# Sort the data by 'Date Created' to maintain the travel sequence\n",
        "data = data.sort_values('Date Created')\n",
        "\n",
        "# Create a map centered around the average location\n",
        "center_lat = data['Latitude'].mean()\n",
        "center_long = data['Longitude'].mean()\n",
        "m = folium.Map(location=[center_lat, center_long], zoom_start=12)\n",
        "\n",
        "# Add markers with numbers for each image capture point\n",
        "for i, row in data.iterrows():\n",
        "    folium.Marker(\n",
        "        location=[row['Latitude'], row['Longitude']],\n",
        "        popup=f\"File: {row['File']}<br>Date Created: {row['Date Created']}\",\n",
        "        icon=folium.DivIcon(html=f\"\"\"<div style=\"font-size: 12px; color: blue;\">{i+1}</div>\"\"\")\n",
        "    ).add_to(m)\n",
        "\n",
        "# Extract the coordinates to create a route (polyline)\n",
        "locations = data[['Latitude', 'Longitude']].values.tolist()\n",
        "\n",
        "# Add the polyline (travel route) to the map\n",
        "polyline = folium.PolyLine(locations, color=\"red\", weight=2.5, opacity=1).add_to(m)\n",
        "\n",
        "# Add arrows to the polyline (direction of travel)\n",
        "plugins.PolyLineTextPath(\n",
        "    polyline,\n",
        "    '\\u27A4',  # Unicode character for an arrow\n",
        "    repeat=True,\n",
        "    offset=10,\n",
        "    attributes={'fill': 'red', 'font-weight': 'bold', 'font-size': '16'}\n",
        ").add_to(m)\n",
        "\n",
        "# Add a minimap in the corner\n",
        "minimap = plugins.MiniMap(toggle_display=True)\n",
        "m.add_child(minimap)\n",
        "\n",
        "# Save the map to an HTML file\n",
        "m.save(\"map_with_numbered_route.html\")\n",
        "\n",
        "# Output success message\n",
        "print(\"Map with numbered route (using Date Created) created successfully!\")\n"
      ],
      "metadata": {
        "colab": {
          "base_uri": "https://localhost:8080/"
        },
        "id": "1Wuw57rNx-II",
        "outputId": "242dca3a-c0c9-439f-8181-4cedff24547d"
      },
      "execution_count": null,
      "outputs": [
        {
          "output_type": "stream",
          "name": "stdout",
          "text": [
            "Map with numbered route (using Date Created) created successfully!\n"
          ]
        }
      ]
    }
  ]
}