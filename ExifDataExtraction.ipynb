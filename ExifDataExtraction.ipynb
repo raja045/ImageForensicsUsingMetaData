{
 "cells": [
  {
   "cell_type": "code",
   "execution_count": 1,
   "id": "a5e80732-c076-48fe-9aab-a0e98df4645f",
   "metadata": {},
   "outputs": [
    {
     "name": "stdout",
     "output_type": "stream",
     "text": [
      "The history saving thread hit an unexpected error (OperationalError('attempt to write a readonly database')).History will not be written to the database.\n",
      "\u001b[33mDEPRECATION: Loading egg at /opt/miniconda3/lib/python3.12/site-packages/image_scramble-2.1.2-py3.12.egg is deprecated. pip 24.3 will enforce this behaviour change. A possible replacement is to use pip for package installation.. Discussion can be found at https://github.com/pypa/pip/issues/12330\u001b[0m\u001b[33m\n",
      "\u001b[0m\u001b[33mDEPRECATION: Loading egg at /opt/miniconda3/lib/python3.12/site-packages/Flask-2.0.2-py3.12.egg is deprecated. pip 24.3 will enforce this behaviour change. A possible replacement is to use pip for package installation.. Discussion can be found at https://github.com/pypa/pip/issues/12330\u001b[0m\u001b[33m\n",
      "\u001b[0mCollecting exifread\n",
      "  Downloading ExifRead-3.0.0-py3-none-any.whl.metadata (6.4 kB)\n",
      "Downloading ExifRead-3.0.0-py3-none-any.whl (40 kB)\n",
      "\u001b[2K   \u001b[90m━━━━━━━━━━━━━━━━━━━━━━━━━━━━━━━━━━━━━━━━\u001b[0m \u001b[32m40.4/40.4 kB\u001b[0m \u001b[31m1.3 MB/s\u001b[0m eta \u001b[36m0:00:00\u001b[0m\n",
      "\u001b[?25hInstalling collected packages: exifread\n",
      "Successfully installed exifread-3.0.0\n"
     ]
    }
   ],
   "source": [
    "!pip install exifread\n"
   ]
  },
  {
   "cell_type": "code",
   "execution_count": null,
   "id": "10a16e0b-1ca4-47d2-99a9-567607cf5c11",
   "metadata": {},
   "outputs": [],
   "source": [
    "#It will create an empty CSV file to upload the data into it.\n",
    "import csv\n",
    "\n",
    "# Specify the file name\n",
    "filename = 'empty_file.csv'\n",
    "\n",
    "# Create an empty CSV file\n",
    "with open(filename, mode='w', newline='') as file:\n",
    "    writer = csv.writer(file)\n",
    "    # No data to write, just creating the file\n",
    "\n",
    "print(f'{filename} created successfully!')"
   ]
  },
  {
   "cell_type": "code",
   "execution_count": null,
   "id": "3f9fe0de-7829-4ed4-8175-57ca9e6f7591",
   "metadata": {},
   "outputs": [],
   "source": [
    "import os\n",
    "import exifread\n",
    "import csv\n",
    "\n",
    "# Function to extract EXIF data from a single image\n",
    "def extract_exif(image_path):\n",
    "    with open(image_path, 'rb') as image_file:\n",
    "        exif_data = exifread.process_file(image_file)\n",
    "    return exif_data\n",
    "\n",
    "# Function to extract required metadata from EXIF data\n",
    "def get_relevant_metadata(exif_data):\n",
    "    metadata = {\n",
    "        \"ImageDescription\": exif_data.get(\"Image ImageDescription\", \"\"),\n",
    "        \"Make\": exif_data.get(\"Image Make\", \"\"),\n",
    "        \"Model\": exif_data.get(\"Image Model\", \"\"),\n",
    "        \"Orientation\": exif_data.get(\"Image Orientation\", \"\"),\n",
    "        \"XResolution\": exif_data.get(\"Image XResolution\", \"\"),\n",
    "        \"YResolution\": exif_data.get(\"Image YResolution\", \"\"),\n",
    "        \"ResolutionUnit\": exif_data.get(\"Image ResolutionUnit\", \"\"),\n",
    "        \"Software\": exif_data.get(\"Image Software\", \"\"),\n",
    "        \"DateTime\": exif_data.get(\"Image DateTime\", \"\"),\n",
    "        \"GPSLatitudeRef\": exif_data.get(\"GPS GPSLatitudeRef\", \"\"),\n",
    "        \"GPSLatitude\": exif_data.get(\"GPS GPSLatitude\", \"\"),\n",
    "        \"GPSLongitudeRef\": exif_data.get(\"GPS GPSLongitudeRef\", \"\"),\n",
    "        \"GPSLongitude\": exif_data.get(\"GPS GPSLongitude\", \"\"),\n",
    "        \"GPSAltitudeRef\": exif_data.get(\"GPS GPSAltitudeRef\", \"\"),\n",
    "        \"GPSTimeStamp\": exif_data.get(\"GPS GPSTimeStamp\", \"\"),\n",
    "        \"GPSDate\": exif_data.get(\"GPS GPSDate\", \"\")\n",
    "    }\n",
    "    return metadata\n",
    "\n",
    "# Function to process all images in a folder and save metadata to a CSV file\n",
    "def extract_exif_to_csv(folder_path, csv_file_path):\n",
    "    with open(csv_file_path, mode='w', newline='') as csv_file:\n",
    "        fieldnames = [\"ImageName\", \"ImageDescription\", \"Make\", \"Model\", \"Orientation\",\n",
    "                      \"XResolution\", \"YResolution\", \"ResolutionUnit\", \"Software\", \"DateTime\",\n",
    "                      \"GPSLatitudeRef\", \"GPSLatitude\", \"GPSLongitudeRef\", \"GPSLongitude\",\n",
    "                      \"GPSAltitudeRef\", \"GPSTimeStamp\", \"GPSDate\"]\n",
    "        writer = csv.DictWriter(csv_file, fieldnames=fieldnames)\n",
    "        writer.writeheader()\n",
    "\n",
    "        for filename in os.listdir(folder_path):\n",
    "            if filename.lower().endswith(('.jpg', '.jpeg', '.png')):\n",
    "                image_path = os.path.join(folder_path, filename)\n",
    "                exif_data = extract_exif(image_path)\n",
    "                metadata = get_relevant_metadata(exif_data)\n",
    "                metadata[\"ImageName\"] = filename\n",
    "                writer.writerow(metadata)\n",
    "\n",
    "# Hardcode the path to the folder containing images and the CSV file to save the metadata\n",
    "folder_path = '/content/Gps'\n",
    "csv_file_path = 'empty_file.csv'\n",
    "\n",
    "# Check if folder exists and extract EXIF data to CSV\n",
    "if os.path.isdir(folder_path):\n",
    "    extract_exif_to_csv(folder_path, csv_file_path)\n",
    "    print(f\"Metadata extracted and saved to {csv_file_path}\")\n",
    "else:\n",
    "    print(\"Invalid folder path. Please check the path.\")\n"
   ]
  }
 ],
 "metadata": {
  "kernelspec": {
   "display_name": "Python 3 (ipykernel)",
   "language": "python",
   "name": "python3"
  },
  "language_info": {
   "codemirror_mode": {
    "name": "ipython",
    "version": 3
   },
   "file_extension": ".py",
   "mimetype": "text/x-python",
   "name": "python",
   "nbconvert_exporter": "python",
   "pygments_lexer": "ipython3",
   "version": "3.12.4"
  }
 },
 "nbformat": 4,
 "nbformat_minor": 5
}
